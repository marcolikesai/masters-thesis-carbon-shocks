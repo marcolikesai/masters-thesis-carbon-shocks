{
 "cells": [
  {
   "cell_type": "code",
   "execution_count": null,
   "id": "624e512b",
   "metadata": {},
   "outputs": [
    {
     "name": "stdout",
     "output_type": "stream",
     "text": [
      "Collecting yfinance\n",
      "  Downloading yfinance-0.2.58-py2.py3-none-any.whl.metadata (5.5 kB)\n",
      "Requirement already satisfied: pandas>=1.3.0 in /opt/anaconda3/lib/python3.12/site-packages (from yfinance) (2.2.2)\n",
      "Requirement already satisfied: numpy>=1.16.5 in /opt/anaconda3/lib/python3.12/site-packages (from yfinance) (1.26.4)\n",
      "Requirement already satisfied: requests>=2.31 in /opt/anaconda3/lib/python3.12/site-packages (from yfinance) (2.32.2)\n",
      "Collecting multitasking>=0.0.7 (from yfinance)\n",
      "  Downloading multitasking-0.0.11-py3-none-any.whl.metadata (5.5 kB)\n",
      "Requirement already satisfied: platformdirs>=2.0.0 in /opt/anaconda3/lib/python3.12/site-packages (from yfinance) (3.10.0)\n",
      "Requirement already satisfied: pytz>=2022.5 in /opt/anaconda3/lib/python3.12/site-packages (from yfinance) (2024.1)\n",
      "Requirement already satisfied: frozendict>=2.3.4 in /opt/anaconda3/lib/python3.12/site-packages (from yfinance) (2.4.2)\n",
      "Collecting peewee>=3.16.2 (from yfinance)\n",
      "  Downloading peewee-3.18.1.tar.gz (3.0 MB)\n",
      "\u001b[2K     \u001b[90m━━━━━━━━━━━━━━━━━━━━━━━━━━━━━━━━━━━━━━━━\u001b[0m \u001b[32m3.0/3.0 MB\u001b[0m \u001b[31m18.7 MB/s\u001b[0m eta \u001b[36m0:00:00\u001b[0m00:01\u001b[0m00:01\u001b[0m\n",
      "\u001b[?25h  Installing build dependencies ... \u001b[?25ldone\n",
      "\u001b[?25h  Getting requirements to build wheel ... \u001b[?25ldone\n",
      "\u001b[?25h  Preparing metadata (pyproject.toml) ... \u001b[?25ldone\n",
      "\u001b[?25hRequirement already satisfied: beautifulsoup4>=4.11.1 in /opt/anaconda3/lib/python3.12/site-packages (from yfinance) (4.12.3)\n",
      "Collecting curl_cffi>=0.7 (from yfinance)\n",
      "  Downloading curl_cffi-0.10.0-cp39-abi3-macosx_10_9_x86_64.whl.metadata (12 kB)\n",
      "Requirement already satisfied: soupsieve>1.2 in /opt/anaconda3/lib/python3.12/site-packages (from beautifulsoup4>=4.11.1->yfinance) (2.5)\n",
      "Requirement already satisfied: cffi>=1.12.0 in /opt/anaconda3/lib/python3.12/site-packages (from curl_cffi>=0.7->yfinance) (1.16.0)\n",
      "Requirement already satisfied: certifi>=2024.2.2 in /opt/anaconda3/lib/python3.12/site-packages (from curl_cffi>=0.7->yfinance) (2025.1.31)\n",
      "Requirement already satisfied: python-dateutil>=2.8.2 in /opt/anaconda3/lib/python3.12/site-packages (from pandas>=1.3.0->yfinance) (2.9.0.post0)\n",
      "Requirement already satisfied: tzdata>=2022.7 in /opt/anaconda3/lib/python3.12/site-packages (from pandas>=1.3.0->yfinance) (2023.3)\n",
      "Requirement already satisfied: charset-normalizer<4,>=2 in /opt/anaconda3/lib/python3.12/site-packages (from requests>=2.31->yfinance) (2.0.4)\n",
      "Requirement already satisfied: idna<4,>=2.5 in /opt/anaconda3/lib/python3.12/site-packages (from requests>=2.31->yfinance) (3.7)\n",
      "Requirement already satisfied: urllib3<3,>=1.21.1 in /opt/anaconda3/lib/python3.12/site-packages (from requests>=2.31->yfinance) (2.2.2)\n",
      "Requirement already satisfied: pycparser in /opt/anaconda3/lib/python3.12/site-packages (from cffi>=1.12.0->curl_cffi>=0.7->yfinance) (2.21)\n",
      "Requirement already satisfied: six>=1.5 in /opt/anaconda3/lib/python3.12/site-packages (from python-dateutil>=2.8.2->pandas>=1.3.0->yfinance) (1.16.0)\n",
      "Downloading yfinance-0.2.58-py2.py3-none-any.whl (113 kB)\n",
      "\u001b[2K   \u001b[90m━━━━━━━━━━━━━━━━━━━━━━━━━━━━━━━━━━━━━━━━\u001b[0m \u001b[32m113.7/113.7 kB\u001b[0m \u001b[31m4.3 MB/s\u001b[0m eta \u001b[36m0:00:00\u001b[0m\n",
      "\u001b[?25hDownloading curl_cffi-0.10.0-cp39-abi3-macosx_10_9_x86_64.whl (5.2 MB)\n",
      "\u001b[2K   \u001b[90m━━━━━━━━━━━━━━━━━━━━━━━━━━━━━━━━━━━━━━━━\u001b[0m \u001b[32m5.2/5.2 MB\u001b[0m \u001b[31m28.8 MB/s\u001b[0m eta \u001b[36m0:00:00\u001b[0m00:01\u001b[0m00:01\u001b[0m\n",
      "\u001b[?25hDownloading multitasking-0.0.11-py3-none-any.whl (8.5 kB)\n",
      "Building wheels for collected packages: peewee\n",
      "  Building wheel for peewee (pyproject.toml) ... \u001b[?25ldone\n",
      "\u001b[?25h  Created wheel for peewee: filename=peewee-3.18.1-cp312-cp312-macosx_10_15_x86_64.whl size=271226 sha256=28b819e3d4f861e5cce887ce0964696ad0f0a051a906c582207a2181dd611e87\n",
      "  Stored in directory: /Users/aditya/Library/Caches/pip/wheels/1a/57/6a/bb71346381d0d911cd4ce3026f1fa720da76707e4f01cf27dd\n",
      "Successfully built peewee\n",
      "Installing collected packages: peewee, multitasking, curl_cffi, yfinance\n",
      "Successfully installed curl_cffi-0.10.0 multitasking-0.0.11 peewee-3.18.1 yfinance-0.2.58\n"
     ]
    }
   ],
   "source": [
    "!pip install yfinance"
   ]
  },
  {
   "cell_type": "code",
   "execution_count": 15,
   "id": "12753722",
   "metadata": {},
   "outputs": [
    {
     "name": "stdout",
     "output_type": "stream",
     "text": [
      "Requirement already satisfied: pandas_datareader in /opt/anaconda3/lib/python3.12/site-packages (0.10.0)\n",
      "Requirement already satisfied: lxml in /opt/anaconda3/lib/python3.12/site-packages (from pandas_datareader) (5.2.1)\n",
      "Requirement already satisfied: pandas>=0.23 in /opt/anaconda3/lib/python3.12/site-packages (from pandas_datareader) (2.2.2)\n",
      "Requirement already satisfied: requests>=2.19.0 in /opt/anaconda3/lib/python3.12/site-packages (from pandas_datareader) (2.32.2)\n",
      "Requirement already satisfied: numpy>=1.26.0 in /opt/anaconda3/lib/python3.12/site-packages (from pandas>=0.23->pandas_datareader) (1.26.4)\n",
      "Requirement already satisfied: python-dateutil>=2.8.2 in /opt/anaconda3/lib/python3.12/site-packages (from pandas>=0.23->pandas_datareader) (2.9.0.post0)\n",
      "Requirement already satisfied: pytz>=2020.1 in /opt/anaconda3/lib/python3.12/site-packages (from pandas>=0.23->pandas_datareader) (2024.1)\n",
      "Requirement already satisfied: tzdata>=2022.7 in /opt/anaconda3/lib/python3.12/site-packages (from pandas>=0.23->pandas_datareader) (2023.3)\n",
      "Requirement already satisfied: charset-normalizer<4,>=2 in /opt/anaconda3/lib/python3.12/site-packages (from requests>=2.19.0->pandas_datareader) (2.0.4)\n",
      "Requirement already satisfied: idna<4,>=2.5 in /opt/anaconda3/lib/python3.12/site-packages (from requests>=2.19.0->pandas_datareader) (3.7)\n",
      "Requirement already satisfied: urllib3<3,>=1.21.1 in /opt/anaconda3/lib/python3.12/site-packages (from requests>=2.19.0->pandas_datareader) (2.2.2)\n",
      "Requirement already satisfied: certifi>=2017.4.17 in /opt/anaconda3/lib/python3.12/site-packages (from requests>=2.19.0->pandas_datareader) (2025.1.31)\n",
      "Requirement already satisfied: six>=1.5 in /opt/anaconda3/lib/python3.12/site-packages (from python-dateutil>=2.8.2->pandas>=0.23->pandas_datareader) (1.16.0)\n"
     ]
    }
   ],
   "source": [
    "!pip install pandas_datareader"
   ]
  },
  {
   "cell_type": "code",
   "execution_count": 12,
   "id": "91727787",
   "metadata": {},
   "outputs": [],
   "source": [
    "import yfinance as yf\n",
    "import pandas as pd\n",
    "import numpy as np\n",
    "import datetime as dt\n",
    "import pandas_datareader as pdr"
   ]
  },
  {
   "cell_type": "markdown",
   "id": "219d4ee0",
   "metadata": {},
   "source": [
    "### Green Energy ETF - iShares Global Clean Energy ETF (ICLN) "
   ]
  },
  {
   "cell_type": "code",
   "execution_count": null,
   "id": "4b483326",
   "metadata": {},
   "outputs": [
    {
     "name": "stderr",
     "output_type": "stream",
     "text": [
      "[*********************100%***********************]  1 of 1 completed"
     ]
    },
    {
     "name": "stdout",
     "output_type": "stream",
     "text": [
      "Price          Close      High       Low      Open  Volume\n",
      "Ticker          ICLN      ICLN      ICLN      ICLN    ICLN\n",
      "Date                                                      \n",
      "2018-01-02  8.579463  8.579463  8.479702  8.497840  102000\n",
      "2018-01-03  8.561325  8.588533  8.534118  8.588533   64200\n",
      "2018-01-04  8.497841  8.570394  8.452495  8.543187  364000\n",
      "2018-01-05  8.525048  8.561325  8.497841  8.534118  167200\n",
      "2018-01-08  8.652018  8.652018  8.543187  8.552257  155000\n"
     ]
    },
    {
     "name": "stderr",
     "output_type": "stream",
     "text": [
      "\n"
     ]
    }
   ],
   "source": [
    "# Define the ticker symbol\n",
    "ticker = \"ICLN\"\n",
    "\n",
    "# Download the historical data\n",
    "icln_data = yf.download(ticker, start=\"2018-01-01\", end=\"2025-01-01\", interval=\"1d\")\n",
    "\n",
    "# Display the first few rows\n",
    "print(icln_data.head())\n",
    "\n",
    "# Optional: Save to CSV\n",
    "icln_data.to_csv(\"/Users/aditya/Desktop/MSQE PROJECT/Project_Data/ICLN_2018_2024_Daily.csv\")"
   ]
  },
  {
   "cell_type": "markdown",
   "id": "2bcae40f",
   "metadata": {},
   "source": [
    "### Brown Energy ETF1  - XLE (Energy Select Sector SPDR ETF)"
   ]
  },
  {
   "cell_type": "code",
   "execution_count": 6,
   "id": "659c7cd7",
   "metadata": {},
   "outputs": [
    {
     "name": "stderr",
     "output_type": "stream",
     "text": [
      "[*********************100%***********************]  1 of 1 completed"
     ]
    },
    {
     "name": "stdout",
     "output_type": "stream",
     "text": [
      "Price           Close       High        Low       Open    Volume\n",
      "Ticker            XLE        XLE        XLE        XLE       XLE\n",
      "Date                                                            \n",
      "2018-01-02  53.147751  53.205639  52.380746  52.547175  14891400\n",
      "2018-01-03  53.943691  54.081170  53.198388  53.256277  19299600\n",
      "2018-01-04  54.269306  54.305488  53.712144  53.907511  14306800\n",
      "2018-01-05  54.247593  54.291007  53.798965  54.196942  14204400\n",
      "2018-01-08  54.573204  54.602148  54.081162  54.225884   9779200\n"
     ]
    },
    {
     "name": "stderr",
     "output_type": "stream",
     "text": [
      "\n"
     ]
    }
   ],
   "source": [
    "# Define the ticker symbol\n",
    "ticker = \"xle\"\n",
    "\n",
    "# Download the historical data\n",
    "xle_data = yf.download(ticker, start=\"2018-01-01\", end=\"2025-01-01\", interval=\"1d\")\n",
    "\n",
    "# Display the first few rows\n",
    "print(xle_data.head())\n",
    "\n",
    "# Optional: Save to CSV\n",
    "xle_data.to_csv(\"/Users/aditya/Desktop/MSQE PROJECT/Project_Data/xle_2018_2024_Daily.csv\")"
   ]
  },
  {
   "cell_type": "markdown",
   "id": "0e862360",
   "metadata": {},
   "source": [
    "## Realized Volatility and Option-Implied Volatility (IV) Data"
   ]
  },
  {
   "cell_type": "markdown",
   "id": "467574cf",
   "metadata": {},
   "source": [
    "This for ICLN ticker (Green) and XLE (Brown), with both 5 Day and 21 Day annualized volatilities. Using 252 trading days for annualization (standard)."
   ]
  },
  {
   "cell_type": "code",
   "execution_count": 14,
   "id": "6b28dd20",
   "metadata": {},
   "outputs": [
    {
     "name": "stdout",
     "output_type": "stream",
     "text": [
      "Price          Close      High       Low      Open  Volume   Returns Vol_5d  \\\n",
      "Ticker          ICLN      ICLN      ICLN      ICLN    ICLN                    \n",
      "Date                                                                          \n",
      "2018-01-02  8.579464  8.579464  8.479703  8.497841  102000       NaN    NaN   \n",
      "2018-01-03  8.561326  8.588534  8.534119  8.588534   64200 -0.002114    NaN   \n",
      "2018-01-04  8.497839  8.570392  8.452493  8.543185  364000 -0.007416    NaN   \n",
      "2018-01-05  8.525048  8.561325  8.497841  8.534118  167200  0.003202    NaN   \n",
      "2018-01-08  8.652018  8.652018  8.543187  8.552257  155000  0.014894    NaN   \n",
      "\n",
      "Price      Vol_21d  \n",
      "Ticker              \n",
      "Date                \n",
      "2018-01-02     NaN  \n",
      "2018-01-03     NaN  \n",
      "2018-01-04     NaN  \n",
      "2018-01-05     NaN  \n",
      "2018-01-08     NaN  \n",
      "Price           Close       High        Low       Open    Volume   Returns  \\\n",
      "Ticker            XLE        XLE        XLE        XLE       XLE             \n",
      "Date                                                                         \n",
      "2018-01-02  53.147739  53.205628  52.380735  52.547163  14891400       NaN   \n",
      "2018-01-03  53.943684  54.081162  53.198381  53.256269  19299600  0.014976   \n",
      "2018-01-04  54.269299  54.305480  53.712136  53.907503  14306800  0.006036   \n",
      "2018-01-05  54.247593  54.291007  53.798965  54.196942  14204400 -0.000400   \n",
      "2018-01-08  54.573204  54.602148  54.081162  54.225884   9779200  0.006002   \n",
      "\n",
      "Price      Vol_5d Vol_21d  \n",
      "Ticker                     \n",
      "Date                       \n",
      "2018-01-02    NaN     NaN  \n",
      "2018-01-03    NaN     NaN  \n",
      "2018-01-04    NaN     NaN  \n",
      "2018-01-05    NaN     NaN  \n",
      "2018-01-08    NaN     NaN  \n",
      "Price      Close   High   Low   Open Volume\n",
      "Ticker      ^VIX   ^VIX  ^VIX   ^VIX   ^VIX\n",
      "Date                                       \n",
      "2018-01-02  9.77  11.07  9.52  10.95      0\n",
      "2018-01-03  9.15   9.65  8.94   9.56      0\n",
      "2018-01-04  9.22   9.31  8.92   9.01      0\n",
      "2018-01-05  9.22   9.54  9.00   9.10      0\n",
      "2018-01-08  9.52   9.89  9.32   9.61      0\n",
      "Data downloaded and saved successfully.\n"
     ]
    }
   ],
   "source": [
    "# Set the date range\n",
    "start_date = '2018-01-01'\n",
    "end_date = '2024-12-31'\n",
    "\n",
    "# Define ETF tickers\n",
    "green_ticker = 'ICLN'   # Green ETF\n",
    "brown_ticker = 'XLE'    # Brown ETF\n",
    "\n",
    "# Download data (auto-adjusted prices)\n",
    "green_data = yf.download(green_ticker, start=start_date, end=end_date, progress=False)\n",
    "brown_data = yf.download(brown_ticker, start=start_date, end=end_date, progress=False)\n",
    "\n",
    "# If data is not adjusted automatically, use 'Adj Close'\n",
    "# Ensure 'Adj Close' is present, fallback to 'Close' if needed\n",
    "price_col = 'Adj Close' if 'Adj Close' in green_data.columns else 'Close'\n",
    "\n",
    "# Calculate returns\n",
    "green_data['Returns'] = green_data[price_col].pct_change()\n",
    "brown_data['Returns'] = brown_data[price_col].pct_change()\n",
    "\n",
    "# Calculate annualized rolling volatility\n",
    "green_data['Vol_5d'] = green_data['Returns'].rolling(window=5).std() * np.sqrt(252)\n",
    "green_data['Vol_21d'] = green_data['Returns'].rolling(window=21).std() * np.sqrt(252)\n",
    "\n",
    "brown_data['Vol_5d'] = brown_data['Returns'].rolling(window=5).std() * np.sqrt(252)\n",
    "brown_data['Vol_21d'] = brown_data['Returns'].rolling(window=21).std() * np.sqrt(252)\n",
    "\n",
    "# Save to CSV\n",
    "green_data.to_csv('/Users/aditya/Desktop/MSQE PROJECT/Project_Data/green_etf_volatility.csv')\n",
    "print(green_data.head())\n",
    "brown_data.to_csv('/Users/aditya/Desktop/MSQE PROJECT/Project_Data/brown_etf_volatility.csv')\n",
    "print(brown_data.head())\n",
    "\n",
    "# Download VIX implied volatility data as proxy\n",
    "vix_data = yf.download('^VIX', start=start_date, end=end_date, progress=False)\n",
    "vix_data.to_csv('/Users/aditya/Desktop/MSQE PROJECT/Project_Data/vix_iv_proxy.csv')\n",
    "print(vix_data.head())\n",
    "\n",
    "print(\"Data downloaded and saved successfully.\")\n"
   ]
  },
  {
   "cell_type": "markdown",
   "id": "4c219012",
   "metadata": {},
   "source": [
    "## Macroeconomic Controls Data"
   ]
  },
  {
   "cell_type": "code",
   "execution_count": 24,
   "id": "94754946",
   "metadata": {},
   "outputs": [
    {
     "name": "stderr",
     "output_type": "stream",
     "text": [
      "[*********************100%***********************]  1 of 1 completed\n",
      "[*********************100%***********************]  1 of 1 completed\n",
      "[*********************100%***********************]  1 of 1 completed\n",
      "[*********************100%***********************]  1 of 1 completed\n",
      "[*********************100%***********************]  1 of 1 completed\n"
     ]
    },
    {
     "name": "stdout",
     "output_type": "stream",
     "text": [
      "             VIX  Brent_Oil        SP500  Natural_Gas  US10Y  CPI\n",
      "Date                                                             \n",
      "2018-01-02  9.77  66.570000  2695.810059        3.056  2.465  NaN\n",
      "2018-01-03  9.15  67.839996  2713.060059        3.008  2.447  NaN\n",
      "2018-01-04  9.22  68.070000  2723.989990        2.880  2.453  NaN\n",
      "2018-01-05  9.22  67.620003  2743.149902        2.795  2.476  NaN\n",
      "2018-01-08  9.52  67.779999  2747.709961        2.835  2.480  NaN\n"
     ]
    },
    {
     "name": "stderr",
     "output_type": "stream",
     "text": [
      "/var/folders/1r/zy587f0538s953xzbmtbxc2h0000gn/T/ipykernel_12265/2401726001.py:35: FutureWarning: Series.fillna with 'method' is deprecated and will raise in a future version. Use obj.ffill() or obj.bfill() instead.\n",
      "  macro_combined['CPI'] = macro_combined['CPI'].fillna(method='ffill')\n"
     ]
    }
   ],
   "source": [
    "from fredapi import Fred\n",
    "fred = Fred(api_key='6c0ecd6565503b64631fd2b36f71293a')\n",
    "\n",
    "# Set the date range\n",
    "start_date = \"2018-01-01\"\n",
    "end_date = \"2025-01-01\"\n",
    "\n",
    "# Market-based controls from Yahoo Finance\n",
    "tickers = {\n",
    "    'VIX': '^VIX',  # Volatility Index\n",
    "    'Brent_Oil': 'BZ=F',  # Brent Crude Oil Futures\n",
    "    'SP500': '^GSPC',  # S&P 500 Index\n",
    "    'Natural_Gas': 'NG=F',  # Natural Gas Futures\n",
    "    'US10Y': '^TNX',  # 10-Year Treasury Yield\n",
    "}\n",
    "\n",
    "macro_data = {}\n",
    "for label, ticker in tickers.items():\n",
    "    df = yf.download(ticker, start=start_date, end=end_date)[[\"Close\"]]\n",
    "    df.columns = [label]  # Flatten column name\n",
    "    macro_data[label] = df\n",
    "\n",
    "# Combine all into one DataFrame\n",
    "macro_combined = pd.concat(macro_data.values(), axis=1)\n",
    "\n",
    "# Drop rows with any missing values\n",
    "macro_combined.dropna(inplace=True)\n",
    "\n",
    "# CPI from FRED (monthly inflation data)\n",
    "cpi = pdr.data.DataReader(\"CPIAUCNS\", \"fred\", start=start_date, end=end_date)\n",
    "cpi.rename(columns={\"CPIAUCNS\": \"CPI\"}, inplace=True)\n",
    "\n",
    "# Forward-fill CPI to daily frequency\n",
    "macro_combined = macro_combined.merge(cpi, how='left', left_index=True, right_index=True)\n",
    "macro_combined['CPI'] = macro_combined['CPI'].fillna(method='ffill')\n",
    "\n",
    "# Save\n",
    "macro_combined.to_csv(\"/Users/aditya/Desktop/MSQE PROJECT/Project_Data/macro_control_variables.csv\")\n",
    "print(macro_combined.head())\n"
   ]
  },
  {
   "cell_type": "code",
   "execution_count": 29,
   "id": "5bee393c",
   "metadata": {},
   "outputs": [
    {
     "name": "stdout",
     "output_type": "stream",
     "text": [
      "⏳  Scraping NEE ...\n",
      " ESG score not found for NEE\n",
      "⏳  Scraping ENPH ...\n",
      " ESG score not found for ENPH\n",
      "⏳  Scraping DUK ...\n",
      "  HTTP 202 for DUK\n",
      "⏳  Scraping XOM ...\n",
      "  Could not resolve exchange for XOM\n",
      "⏳  Scraping CVX ...\n",
      "  Could not resolve exchange for CVX\n",
      "\n",
      "✅  Saved 5 rows to morningstar_esg_scores.csv\n"
     ]
    }
   ],
   "source": [
    "import requests, time, csv, datetime\n",
    "from bs4 import BeautifulSoup\n",
    "\n",
    "# ------------- settings -------------\n",
    "TICKERS = ['NEE', 'ENPH', 'DUK', 'XOM', 'CVX']          # add more tickers here\n",
    "OUTFILE = 'morningstar_esg_scores.csv'\n",
    "USER_AGENT = (\n",
    "    'Mozilla/5.0 (Windows NT 10.0; Win64; x64) AppleWebKit/537.36 '\n",
    "    '(KHTML, like Gecko) Chrome/122.0 Safari/537.36'\n",
    ")\n",
    "SLEEP_SECONDS = 2                                       # polite delay between requests\n",
    "# -------------------------------------\n",
    "\n",
    "HEADERS = {'User-Agent': USER_AGENT}\n",
    "BASE_URL = 'https://www.morningstar.com/stocks/{exchange}/{ticker}/quote'\n",
    "\n",
    "def find_exchange(ticker):\n",
    "    \"\"\"\n",
    "    Morningstar puts US tickers under xnas/xnys, ADRs under xtse/xlse, etc.\n",
    "    A cheap way to guess exchange is to try NASDAQ (xnas) first, then NYSE (xnys).\n",
    "    If both fail you can inspect the redirect URL manually.\n",
    "    \"\"\"\n",
    "    for exch in ('xnas', 'xnys'):\n",
    "        url = BASE_URL.format(exchange=exch, ticker=ticker.lower())\n",
    "        r = requests.get(url, headers=HEADERS, allow_redirects=False)\n",
    "        if r.status_code == 200:\n",
    "            return exch\n",
    "        if r.status_code == 301 and '/quote' in r.headers.get('Location', ''):\n",
    "            # redirected to an existing page → use that exchange\n",
    "            return exch\n",
    "    return None\n",
    "\n",
    "def scrape_esg_score(ticker):\n",
    "    exch = find_exchange(ticker)\n",
    "    if exch is None:\n",
    "        print(f'  Could not resolve exchange for {ticker}')\n",
    "        return None, None\n",
    "    url = BASE_URL.format(exchange=exch, ticker=ticker.lower())\n",
    "    r = requests.get(url, headers=HEADERS, timeout=15)\n",
    "    if r.status_code != 200:\n",
    "        print(f'  HTTP {r.status_code} for {ticker}')\n",
    "        return None, None\n",
    "\n",
    "    soup = BeautifulSoup(r.text, 'lxml')\n",
    "\n",
    "    # Sustainalytics score appears in a span containing the risk label,\n",
    "    # followed by an <span> with the numeric score.\n",
    "    # Example fragment:\n",
    "    # <span data-test=\"esg-risk-category\">Low</span>\n",
    "    # <span data-test=\"esg-risk-score\">17.7</span>\n",
    "    label_tag = soup.find('span', attrs={'data-test': 'esg-risk-category'})\n",
    "    score_tag = soup.find('span', attrs={'data-test': 'esg-risk-score'})\n",
    "    if not label_tag or not score_tag:\n",
    "        print(f' ESG score not found for {ticker}')\n",
    "        return None, None\n",
    "\n",
    "    label = label_tag.text.strip()\n",
    "    score = score_tag.text.strip()\n",
    "    return score, label\n",
    "\n",
    "def main():\n",
    "    rows = []\n",
    "    for tk in TICKERS:\n",
    "        print(f'⏳  Scraping {tk} ...')\n",
    "        score, label = scrape_esg_score(tk)\n",
    "        rows.append(\n",
    "            {\n",
    "                'Ticker': tk,\n",
    "                'ESG_Risk_Score': score if score else 'NA',\n",
    "                'ESG_Risk_Label': label if label else 'NA',\n",
    "                'Scrape_Date': datetime.date.today().isoformat(),\n",
    "            }\n",
    "        )\n",
    "        time.sleep(SLEEP_SECONDS)\n",
    "\n",
    "    # write to CSV\n",
    "    with open(OUTFILE, 'w', newline='') as f:\n",
    "        fieldnames = ['Ticker', 'ESG_Risk_Score', 'ESG_Risk_Label', 'Scrape_Date']\n",
    "        writer = csv.DictWriter(f, fieldnames=fieldnames)\n",
    "        writer.writeheader()\n",
    "        writer.writerows(rows)\n",
    "\n",
    "    print(f'\\n✅  Saved {len(rows)} rows to {OUTFILE}')\n",
    "\n",
    "if __name__ == '__main__':\n",
    "    main()\n"
   ]
  },
  {
   "cell_type": "code",
   "execution_count": 3,
   "id": "88751898",
   "metadata": {},
   "outputs": [
    {
     "name": "stdout",
     "output_type": "stream",
     "text": [
      "CSV file 'EU_Carbon_Policy_Events_2018_2025.csv' created successfully.\n"
     ]
    }
   ],
   "source": [
    "# Define the list of events\n",
    "events = [\n",
    "    {\n",
    "        \"Date\": \"2018-01-01\",\n",
    "        \"Event Title\": \"Revision of EU ETS Directive\",\n",
    "        \"Description\": \"The EU revised the Emissions Trading System (ETS) Directive for Phase 4, aligning it with the 2030 climate and energy framework.\",\n",
    "        \"Source\": \"https://climate.ec.europa.eu/eu-action/eu-emissions-trading-system-eu-ets/about-eu-ets_en\"\n",
    "    },\n",
    "    {\n",
    "        \"Date\": \"2019-12-12\",\n",
    "        \"Event Title\": \"European Green Deal Presented\",\n",
    "        \"Description\": \"The European Commission unveiled the European Green Deal, aiming for climate neutrality by 2050.\",\n",
    "        \"Source\": \"https://en.wikipedia.org/wiki/European_Green_Deal\"\n",
    "    },\n",
    "    {\n",
    "        \"Date\": \"2020-03-04\",\n",
    "        \"Event Title\": \"Proposal for European Climate Law\",\n",
    "        \"Description\": \"A proposal was made to legally bind the EU to achieve climate neutrality by 2050.\",\n",
    "        \"Source\": \"https://www.consilium.europa.eu/en/policies/paris-agreement-climate/timeline-paris-agreement\"\n",
    "    },\n",
    "    {\n",
    "        \"Date\": \"2021-07-14\",\n",
    "        \"Event Title\": \"'Fit for 55' Package Presented\",\n",
    "        \"Description\": \"The European Commission introduced a comprehensive package to reduce net greenhouse gas emissions by at least 55% by 2030.\",\n",
    "        \"Source\": \"https://climate.ec.europa.eu/eu-action/eu-emissions-trading-system-eu-ets/about-eu-ets_en\"\n",
    "    },\n",
    "    {\n",
    "        \"Date\": \"2023-06-01\",\n",
    "        \"Event Title\": \"Approval of 'Fit for 55' Proposals\",\n",
    "        \"Description\": \"The European Parliament and the Council of the EU approved all ETS-related proposals under the 'Fit for 55' package.\",\n",
    "        \"Source\": \"https://climate.ec.europa.eu/eu-action/eu-emissions-trading-system-eu-ets/about-eu-ets_en\"\n",
    "    },\n",
    "    {\n",
    "        \"Date\": \"2024-01-01\",\n",
    "        \"Event Title\": \"Expansion of EU ETS\",\n",
    "        \"Description\": \"The EU ETS expanded to include CO₂ emissions from maritime transport, and the emissions cap was adjusted downward.\",\n",
    "        \"Source\": \"https://icapcarbonaction.com/en/ets/eu-emissions-trading-system-eu-ets\"\n",
    "    },\n",
    "    {\n",
    "        \"Date\": \"2025-01-01\",\n",
    "        \"Event Title\": \"Maritime Operators Surrender Allowances\",\n",
    "        \"Description\": \"Maritime operators are required to surrender allowances under the EU ETS for the first time.\",\n",
    "        \"Source\": \"https://icapcarbonaction.com/en/ets/eu-emissions-trading-system-eu-ets\"\n",
    "    },\n",
    "    {\n",
    "        \"Date\": \"2025-04-04\",\n",
    "        \"Event Title\": \"EU ETS Emissions Reduction Report\",\n",
    "        \"Description\": \"The European Commission reported a 50% reduction in emissions covered by the EU ETS since 2005.\",\n",
    "        \"Source\": \"https://climate.ec.europa.eu/news-your-voice/news/eu-emissions-trading-system-has-reduced-emissions-sectors-covered-50-2005-2025-04-04_en\"\n",
    "    }\n",
    "]\n",
    "\n",
    "# Create the DataFrame\n",
    "df = pd.DataFrame(events)\n",
    "\n",
    "# Save to CSV\n",
    "df.to_csv(\"/Users/aditya/Desktop/MSQE PROJECT/Project_Data/EU_Carbon_Policy_Events_2018_2025.csv\", index=False)\n",
    "\n",
    "print(\"CSV file 'EU_Carbon_Policy_Events_2018_2025.csv' created successfully.\")\n"
   ]
  },
  {
   "cell_type": "code",
   "execution_count": 5,
   "id": "aadad73c",
   "metadata": {},
   "outputs": [
    {
     "name": "stderr",
     "output_type": "stream",
     "text": [
      "/opt/anaconda3/lib/python3.12/site-packages/statsmodels/tsa/base/tsa_model.py:473: ValueWarning: A date index has been provided, but it has no associated frequency information and so will be ignored when e.g. forecasting.\n",
      "  self._init_dates(dates, freq)\n"
     ]
    }
   ],
   "source": [
    "from statsmodels.tsa.ar_model import AutoReg\n",
    "\n",
    "# -----------------------------\n",
    "# Step 1: Load EUA Carbon Price Data\n",
    "# -----------------------------\n",
    "eua_data = pd.read_csv(\"/Users/aditya/Desktop/MSQE PROJECT/Project_Data/Carbon Emissions Futures Historical Data (Daily).csv\")\n",
    "eua_data['Date'] = pd.to_datetime(eua_data['Date'])\n",
    "eua_data.sort_values('Date', inplace=True)\n",
    "\n",
    "# Rename price column and set datetime index\n",
    "eua_data.rename(columns={eua_data.columns[1]: 'Price'}, inplace=True)\n",
    "eua_data.set_index('Date', inplace=True)\n",
    "\n",
    "# Compute daily returns\n",
    "eua_data['Returns'] = eua_data['Price'].pct_change()\n",
    "eua_data.dropna(inplace=True)\n",
    "\n",
    "# -----------------------------\n",
    "# Step 2: Model-Based Shock Identification (AR(5) Residuals)\n",
    "# -----------------------------\n",
    "model = AutoReg(eua_data['Returns'], lags=5, old_names=False).fit()\n",
    "eua_data['Residuals'] = model.resid\n",
    "\n",
    "# Use a threshold of 1.0 standard deviation\n",
    "threshold = 1.0 * eua_data['Residuals'].std()\n",
    "eua_data['Shock_ModelBased'] = (np.abs(eua_data['Residuals']) > threshold).astype(int)\n",
    "\n",
    "# -----------------------------\n",
    "# Step 3: Event-Based Shock Tagging (Nearest Date Match)\n",
    "# -----------------------------\n",
    "events_df = pd.read_csv(\"/Users/aditya/Desktop/MSQE PROJECT/Project_Data/EU_Carbon_Policy_Events_2018_2025.csv\")\n",
    "events_df['Date'] = pd.to_datetime(events_df['Date'])\n",
    "\n",
    "# Initialize the event-based shock indicator\n",
    "eua_data['Shock_EventBased'] = 0\n",
    "\n",
    "# For each event date, tag the nearest trading date as a shock\n",
    "for event_date in events_df['Date']:\n",
    "    nearest_idx = eua_data.index.get_indexer([event_date], method='nearest')[0]\n",
    "    nearest_date = eua_data.index[nearest_idx]\n",
    "    eua_data.at[nearest_date, 'Shock_EventBased'] = 1\n",
    "\n",
    "# -----------------------------\n",
    "# Step 4: Save Final Annotated Dataset\n",
    "# -----------------------------\n",
    "eua_data.to_csv(\"/Users/aditya/Desktop/MSQE PROJECT/Project_Data/EEUA_Shock_Annotated_Final.csv\")"
   ]
  },
  {
   "cell_type": "markdown",
   "id": "bdf0c112",
   "metadata": {},
   "source": [
    "📈 Summary: Carbon Price Shock Detection (2018–2025)\n",
    "✅ Model-Based Shocks (454 days)\n",
    "These were identified using an AR(5) model on daily carbon price returns.\n",
    "\n",
    "A shock was flagged if the residual exceeded 1.0 standard deviation.\n",
    "\n",
    "This method detected 454 shock days, indicating frequent short-term volatility in the EU carbon market.\n",
    "\n",
    "These shocks will be useful for estimating impulse responses and analyzing how markets absorb statistical surprises.\n",
    "\n",
    "📅 Event-Based Shocks (7 days)\n",
    "These shocks were identified by aligning known EU carbon policy announcements with the nearest trading day.\n",
    "\n",
    "These represent exogenous, policy-driven shocks, making them ideal for causal inference.\n",
    "\n",
    "Dates include major milestones like cap adjustments and reforms under the EU Fit-for-55 climate package.\n",
    "\n",
    "🎯 Overlap (1 day: 2024-01-02)\n",
    "This date was flagged by both methods — it was:\n",
    "\n",
    "A policy event date, and\n",
    "\n",
    "A statistically significant price spike.\n",
    "\n",
    "This makes it a prime candidate for deep-dive analysis, as it likely triggered a strong market reaction rooted in both policy and pricing.\n",
    "\n",
    "🔍 Interpretation\n",
    "The large number of model-based shocks suggests that EUA prices experience many short bursts of volatility—possibly from energy markets, auctions, or investor behavior.\n",
    "\n",
    "Event-based shocks, while fewer, offer stronger causal identification and can anchor your regressions or treatment effects analysis.\n",
    "\n",
    "The single overlapping shock (2024-01-02) is especially valuable for validating how well markets respond to anticipated policy signals."
   ]
  },
  {
   "cell_type": "code",
   "execution_count": 6,
   "id": "9aec20b8",
   "metadata": {},
   "outputs": [
    {
     "name": "stderr",
     "output_type": "stream",
     "text": [
      "/var/folders/1r/zy587f0538s953xzbmtbxc2h0000gn/T/ipykernel_32737/3723467590.py:2: UserWarning: Could not infer format, so each element will be parsed individually, falling back to `dateutil`. To ensure parsing is consistent and as-expected, please specify a format.\n",
      "  icln = pd.read_csv(\"/Users/aditya/Desktop/MSQE PROJECT/Project_Data/ICLN_2018_2024_Daily.csv\", parse_dates=[\"Date\"])\n",
      "/var/folders/1r/zy587f0538s953xzbmtbxc2h0000gn/T/ipykernel_32737/3723467590.py:3: UserWarning: Could not infer format, so each element will be parsed individually, falling back to `dateutil`. To ensure parsing is consistent and as-expected, please specify a format.\n",
      "  xle = pd.read_csv(\"/Users/aditya/Desktop/MSQE PROJECT/Project_Data/XLE_2018_2024_Daily.csv\", parse_dates=[\"Date\"])\n"
     ]
    },
    {
     "name": "stdout",
     "output_type": "stream",
     "text": [
      "✅ ETF return data saved as 'green_brown_etf_returns.csv'\n"
     ]
    }
   ],
   "source": [
    "# Load price data\n",
    "icln = pd.read_csv(\"/Users/aditya/Desktop/MSQE PROJECT/Project_Data/ICLN_2018_2024_Daily.csv\", parse_dates=[\"Date\"])\n",
    "xle = pd.read_csv(\"/Users/aditya/Desktop/MSQE PROJECT/Project_Data/XLE_2018_2024_Daily.csv\", parse_dates=[\"Date\"])\n",
    "\n",
    "# Step 1: Calculate daily returns using 'Close' prices\n",
    "icln['ICLN_Returns'] = icln['Close'].pct_change()\n",
    "xle['XLE_Returns'] = xle['Close'].pct_change()\n",
    "\n",
    "# Step 2: Retain only Date and returns columns, drop missing values\n",
    "icln_clean = icln[['Date', 'ICLN_Returns']].dropna()\n",
    "xle_clean = xle[['Date', 'XLE_Returns']].dropna()\n",
    "\n",
    "# Step 3: Merge on Date\n",
    "etf_returns = pd.merge(icln_clean, xle_clean, on='Date', how='inner')\n",
    "etf_returns.set_index('Date', inplace=True)\n",
    "\n",
    "# Step 4: Save the result for IRF use\n",
    "etf_returns.to_csv(\"/Users/aditya/Desktop/MSQE PROJECT/Project_Data/green_brown_etf_returns.csv\")\n",
    "\n",
    "print(\"✅ ETF return data saved as 'green_brown_etf_returns.csv'\")\n"
   ]
  },
  {
   "cell_type": "code",
   "execution_count": 18,
   "id": "0e3ff770",
   "metadata": {},
   "outputs": [],
   "source": [
    "import statsmodels.api as sm\n",
    "\n",
    "# Load shock and ETF return data\n",
    "shock_df = pd.read_csv(\"/Users/aditya/Desktop/MSQE PROJECT/Project_Data/EEUA_Shock_Annotated_Final.csv\", parse_dates=[\"Date\"])\n",
    "etf_df = pd.read_csv(\"/Users/aditya/Desktop/MSQE PROJECT/Project_Data/green_brown_etf_returns.csv\", parse_dates=[\"Date\"])"
   ]
  },
  {
   "cell_type": "code",
   "execution_count": null,
   "id": "fc434d6e",
   "metadata": {},
   "outputs": [
    {
     "name": "stdout",
     "output_type": "stream",
     "text": [
      "✅ IRF estimation completed. Results saved to 'IRF_results_model_based.csv'\n"
     ]
    }
   ],
   "source": [
    "# Merge both datasets on Date\n",
    "data = pd.merge(etf_df, shock_df[['Date', 'Shock_ModelBased']], on='Date', how='inner')\n",
    "data.set_index('Date', inplace=True)\n",
    "\n",
    "# Function to run Local Projections\n",
    "def run_local_projection(data, response_col, shock_col, horizons=[1, 3, 5, 10, 20]):\n",
    "    irf_results = []\n",
    "    for h in horizons:\n",
    "        y = data[response_col].shift(-h) - data[response_col]  # future return minus current (cumulative return)\n",
    "        X = sm.add_constant(data[shock_col])\n",
    "        X, y = X.loc[y.dropna().index], y.dropna()\n",
    "        model = sm.OLS(y, X).fit()\n",
    "\n",
    "        irf_results.append({\n",
    "            'Horizon': h,\n",
    "            'Response': response_col,\n",
    "            'Shock': shock_col,\n",
    "            'Beta': model.params[shock_col],\n",
    "            'SE': model.bse[shock_col],\n",
    "            'P-value': model.pvalues[shock_col]\n",
    "        })\n",
    "    return pd.DataFrame(irf_results)\n",
    "\n",
    "# Run IRFs for green (ICLN) and brown (XLE) ETFs\n",
    "green_irf = run_local_projection(data, 'ICLN_Returns', 'Shock_ModelBased')\n",
    "brown_irf = run_local_projection(data, 'XLE_Returns', 'Shock_ModelBased')\n",
    "\n",
    "# Add ETF tags and combine results\n",
    "green_irf['ETF'] = 'ICLN'\n",
    "brown_irf['ETF'] = 'XLE'\n",
    "combined_irf = pd.concat([green_irf, brown_irf])\n",
    "\n",
    "# Save IRF results\n",
    "combined_irf.to_csv(\"/Users/aditya/Desktop/MSQE PROJECT/Project_Data/IRF_results_model_based.csv\", index=False)\n",
    "\n",
    "print(\"IRF estimation completed. Results saved to 'IRF_results_model_based.csv'\")"
   ]
  },
  {
   "cell_type": "code",
   "execution_count": 1,
   "id": "601b8903",
   "metadata": {},
   "outputs": [
    {
     "data": {
      "image/png": "[encoded data removed]",
      "text/plain": [
       "<Figure size 600x300 with 1 Axes>"
      ]
     },
     "metadata": {},
     "output_type": "display_data"
    }
   ],
   "source": [
    "import matplotlib.pyplot as plt\n",
    "\n",
    "horizons = [1, 3, 5, 10, 20]\n",
    "icln_beta = [-0.1336, 0.2619, 0.2649, -0.0103, -0.0448]\n",
    "xle_beta  = [0.0299, 0.1244, 0.3360, 0.1392, -0.0017]\n",
    "\n",
    "plt.figure(figsize=(6,3))\n",
    "plt.plot(horizons, icln_beta, marker='o', label='ICLN (Green)')\n",
    "plt.plot(horizons, xle_beta,  marker='s', label='XLE (Brown)')\n",
    "plt.axhline(0, color='grey', linestyle='--')\n",
    "plt.title('ETF Return Responses to Carbon-Price Shock')\n",
    "plt.xlabel('Days after Shock')\n",
    "plt.ylabel('Cumulative Return (%)')\n",
    "plt.legend()\n",
    "plt.tight_layout()\n",
    "plt.show()"
   ]
  },
  {
   "cell_type": "code",
   "execution_count": 2,
   "id": "387ec2a4",
   "metadata": {},
   "outputs": [
    {
     "data": {
      "image/png": "[encoded data removed]",
      "text/plain": [
       "<Figure size 400x300 with 1 Axes>"
      ]
     },
     "metadata": {},
     "output_type": "display_data"
    }
   ],
   "source": [
    "plt.figure(figsize=(4,3))\n",
    "plt.bar(['ICLN','XLE'], [0.2649, 0.3360], color=['green','brown'])\n",
    "plt.title('5-Day Cumulative Return Post-Shock')\n",
    "plt.ylabel('Return (%)')\n",
    "plt.tight_layout()\n",
    "plt.show()"
   ]
  },
  {
   "cell_type": "code",
   "execution_count": 1,
   "id": "f1ec5c27",
   "metadata": {},
   "outputs": [
    {
     "name": "stderr",
     "output_type": "stream",
     "text": [
      "python(84234) MallocStackLogging: can't turn off malloc stack logging because it was not enabled.\n"
     ]
    },
    {
     "name": "stdout",
     "output_type": "stream",
     "text": [
      "Collecting econml\n",
      "  Downloading econml-0.15.1.tar.gz (1.5 MB)\n",
      "\u001b[2K     \u001b[90m━━━━━━━━━━━━━━━━━━━━━━━━━━━━━━━━━━━━━━━━\u001b[0m \u001b[32m1.5/1.5 MB\u001b[0m \u001b[31m8.8 MB/s\u001b[0m eta \u001b[36m0:00:00\u001b[0m:00:01\u001b[0m00:01\u001b[0m\n",
      "\u001b[?25h  Installing build dependencies ... \u001b[?25ldone\n",
      "\u001b[?25h  Getting requirements to build wheel ... \u001b[?25ldone\n",
      "\u001b[?25h  Preparing metadata (pyproject.toml) ... \u001b[?25ldone\n",
      "\u001b[?25hRequirement already satisfied: numpy<2 in /opt/anaconda3/lib/python3.12/site-packages (from econml) (1.26.4)\n",
      "Requirement already satisfied: scipy>1.4.0 in /opt/anaconda3/lib/python3.12/site-packages (from econml) (1.13.1)\n",
      "Requirement already satisfied: scikit-learn<1.6,>=1.0 in /opt/anaconda3/lib/python3.12/site-packages (from econml) (1.4.2)\n",
      "Collecting sparse (from econml)\n",
      "  Downloading sparse-0.16.0-py2.py3-none-any.whl.metadata (5.3 kB)\n",
      "Requirement already satisfied: joblib>=0.13.0 in /opt/anaconda3/lib/python3.12/site-packages (from econml) (1.4.2)\n",
      "Requirement already satisfied: statsmodels>=0.10 in /opt/anaconda3/lib/python3.12/site-packages (from econml) (0.14.2)\n",
      "Requirement already satisfied: pandas>1.0 in /opt/anaconda3/lib/python3.12/site-packages (from econml) (2.2.2)\n",
      "Collecting shap<0.44.0,>=0.38.1 (from econml)\n",
      "  Downloading shap-0.43.0.tar.gz (389 kB)\n",
      "\u001b[2K     \u001b[90m━━━━━━━━━━━━━━━━━━━━━━━━━━━━━━━━━━━━━━━\u001b[0m \u001b[32m389.1/389.1 kB\u001b[0m \u001b[31m6.9 MB/s\u001b[0m eta \u001b[36m0:00:00\u001b[0m00:01\u001b[0m\n",
      "\u001b[?25h  Installing build dependencies ... \u001b[?25ldone\n",
      "\u001b[?25h  Getting requirements to build wheel ... \u001b[?25ldone\n",
      "\u001b[?25h  Preparing metadata (pyproject.toml) ... \u001b[?25ldone\n",
      "\u001b[?25hCollecting lightgbm (from econml)\n",
      "  Downloading lightgbm-4.6.0-py3-none-macosx_10_15_x86_64.whl.metadata (17 kB)\n",
      "Requirement already satisfied: packaging in /opt/anaconda3/lib/python3.12/site-packages (from econml) (23.2)\n",
      "Requirement already satisfied: python-dateutil>=2.8.2 in /opt/anaconda3/lib/python3.12/site-packages (from pandas>1.0->econml) (2.9.0.post0)\n",
      "Requirement already satisfied: pytz>=2020.1 in /opt/anaconda3/lib/python3.12/site-packages (from pandas>1.0->econml) (2024.1)\n",
      "Requirement already satisfied: tzdata>=2022.7 in /opt/anaconda3/lib/python3.12/site-packages (from pandas>1.0->econml) (2023.3)\n",
      "Requirement already satisfied: threadpoolctl>=2.0.0 in /opt/anaconda3/lib/python3.12/site-packages (from scikit-learn<1.6,>=1.0->econml) (2.2.0)\n",
      "Requirement already satisfied: tqdm>=4.27.0 in /opt/anaconda3/lib/python3.12/site-packages (from shap<0.44.0,>=0.38.1->econml) (4.66.4)\n",
      "Collecting slicer==0.0.7 (from shap<0.44.0,>=0.38.1->econml)\n",
      "  Downloading slicer-0.0.7-py3-none-any.whl.metadata (3.7 kB)\n",
      "Requirement already satisfied: numba in /opt/anaconda3/lib/python3.12/site-packages (from shap<0.44.0,>=0.38.1->econml) (0.59.1)\n",
      "Requirement already satisfied: cloudpickle in /opt/anaconda3/lib/python3.12/site-packages (from shap<0.44.0,>=0.38.1->econml) (2.2.1)\n",
      "Requirement already satisfied: patsy>=0.5.6 in /opt/anaconda3/lib/python3.12/site-packages (from statsmodels>=0.10->econml) (0.5.6)\n",
      "Requirement already satisfied: llvmlite<0.43,>=0.42.0dev0 in /opt/anaconda3/lib/python3.12/site-packages (from numba->shap<0.44.0,>=0.38.1->econml) (0.42.0)\n",
      "Requirement already satisfied: six in /opt/anaconda3/lib/python3.12/site-packages (from patsy>=0.5.6->statsmodels>=0.10->econml) (1.16.0)\n",
      "Downloading slicer-0.0.7-py3-none-any.whl (14 kB)\n",
      "Downloading lightgbm-4.6.0-py3-none-macosx_10_15_x86_64.whl (2.0 MB)\n",
      "\u001b[2K   \u001b[90m━━━━━━━━━━━━━━━━━━━━━━━━━━━━━━━━━━━━━━━━\u001b[0m \u001b[32m2.0/2.0 MB\u001b[0m \u001b[31m9.7 MB/s\u001b[0m eta \u001b[36m0:00:00\u001b[0m:00:01\u001b[0m00:01\u001b[0m\n",
      "\u001b[?25hDownloading sparse-0.16.0-py2.py3-none-any.whl (147 kB)\n",
      "\u001b[2K   \u001b[90m━━━━━━━━━━━━━━━━━━━━━━━━━━━━━━━━━━━━━━━━\u001b[0m \u001b[32m147.3/147.3 kB\u001b[0m \u001b[31m3.7 MB/s\u001b[0m eta \u001b[36m0:00:00\u001b[0mta \u001b[36m0:00:01\u001b[0m\n",
      "\u001b[?25hBuilding wheels for collected packages: econml, shap\n",
      "  Building wheel for econml (pyproject.toml) ... \u001b[?25ldone\n",
      "\u001b[?25h  Created wheel for econml: filename=econml-0.15.1-cp312-cp312-macosx_10_15_x86_64.whl size=1989122 sha256=314786a263de494723998842412ec913f17e8800983d2576b0633d8fdb14fcf0\n",
      "  Stored in directory: /Users/aditya/Library/Caches/pip/wheels/6b/4a/da/3491484956c0a47300d297d43ffafe4f0ac9baa62fd00a11f3\n",
      "  Building wheel for shap (pyproject.toml) ... \u001b[?25ldone\n",
      "\u001b[?25h  Created wheel for shap: filename=shap-0.43.0-cp312-cp312-macosx_10_15_x86_64.whl size=444199 sha256=d9112700b4a0a6d2146eaa8e2f82383a6981b21d77f6cb81420b54ebc1c81fa6\n",
      "  Stored in directory: /Users/aditya/Library/Caches/pip/wheels/e0/cb/3e/46cb0f77e2e4f5aa9fd5d399dedb3ba84f91f0c49e3db7d0e1\n",
      "Successfully built econml shap\n",
      "Installing collected packages: slicer, sparse, lightgbm, shap, econml\n",
      "Successfully installed econml-0.15.1 lightgbm-4.6.0 shap-0.43.0 slicer-0.0.7 sparse-0.16.0\n"
     ]
    }
   ],
   "source": [
    "!pip install econml"
   ]
  },
  {
   "cell_type": "code",
   "execution_count": 5,
   "id": "1f6926a5",
   "metadata": {},
   "outputs": [
    {
     "ename": "TypeError",
     "evalue": "CausalForest.fit() got multiple values for argument 'X'",
     "output_type": "error",
     "traceback": [
      "\u001b[0;31m---------------------------------------------------------------------------\u001b[0m",
      "\u001b[0;31mTypeError\u001b[0m                                 Traceback (most recent call last)",
      "Cell \u001b[0;32mIn[5], line 20\u001b[0m\n\u001b[1;32m     18\u001b[0m \u001b[38;5;66;03m# Fit the causal forest\u001b[39;00m\n\u001b[1;32m     19\u001b[0m cf \u001b[38;5;241m=\u001b[39m CausalForest(n_estimators\u001b[38;5;241m=\u001b[39m\u001b[38;5;241m100\u001b[39m, max_depth\u001b[38;5;241m=\u001b[39m\u001b[38;5;241m5\u001b[39m, min_samples_leaf\u001b[38;5;241m=\u001b[39m\u001b[38;5;241m5\u001b[39m)\n\u001b[0;32m---> 20\u001b[0m cf\u001b[38;5;241m.\u001b[39mfit(Y_train, T_train, X\u001b[38;5;241m=\u001b[39mX_train)\n\u001b[1;32m     22\u001b[0m \u001b[38;5;66;03m# Predict treatment effects\u001b[39;00m\n\u001b[1;32m     23\u001b[0m treatment_effects \u001b[38;5;241m=\u001b[39m cf\u001b[38;5;241m.\u001b[39mpredict(X_test)\n",
      "\u001b[0;31mTypeError\u001b[0m: CausalForest.fit() got multiple values for argument 'X'"
     ]
    }
   ],
   "source": [
    "import pandas as pd\n",
    "import numpy as np\n",
    "from sklearn.model_selection import train_test_split\n",
    "from econml.grf import CausalForest\n",
    "\n",
    "# Load your cleaned dataset\n",
    "combined = pd.read_csv(\"/Users/aditya/Desktop/MSQE PROJECT/Project_Data/Firm-Level_ESG_and_Abnormal_Return_Data.csv\")\n",
    "combined.dropna(subset=['ESG Rating', 'Abnormal_Return'], inplace=True)\n",
    "\n",
    "# Define features, treatment, and outcome\n",
    "X = combined[['ESG Rating']]  # You can add more features here\n",
    "T = (combined['ETF'] == 'ICLN').astype(int)  # 1 = Green (ICLN), 0 = Brown (XLE)\n",
    "Y = combined['Abnormal_Return'].values\n",
    "\n",
    "# Split into train and test\n",
    "X_train, X_test, T_train, T_test, Y_train, Y_test = train_test_split(X, T, Y, test_size=0.2, random_state=42)\n",
    "\n",
    "# Fit the causal forest\n",
    "cf = CausalForest(n_estimators=100, max_depth=5, min_samples_leaf=5)\n",
    "cf.fit(Y_train, T_train, X=X_train)\n",
    "\n",
    "# Predict treatment effects\n",
    "treatment_effects = cf.predict(X_test)\n",
    "\n",
    "# Combine results\n",
    "output_df = X_test.copy()\n",
    "output_df['Estimated_Treatment_Effect'] = treatment_effects\n",
    "\n",
    "# Save or display results\n",
    "output_df.to_csv(\"causal_forest_results.csv\", index=False)\n",
    "print(output_df.head())\n"
   ]
  }
 ],
 "metadata": {
  "kernelspec": {
   "display_name": "Python 3 (ipykernel)",
   "language": "python",
   "name": "python3"
  },
  "language_info": {
   "codemirror_mode": {
    "name": "ipython",
    "version": 3
   },
   "file_extension": ".py",
   "mimetype": "text/x-python",
   "name": "python",
   "nbconvert_exporter": "python",
   "pygments_lexer": "ipython3",
   "version": "3.12.2"
  }
 },
 "nbformat": 4,
 "nbformat_minor": 5
}
